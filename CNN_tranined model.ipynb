{
  "nbformat": 4,
  "nbformat_minor": 0,
  "metadata": {
    "colab": {
      "name": "DSCI_CNNs.ipynb",
      "provenance": [],
      "collapsed_sections": []
    },
    "kernelspec": {
      "name": "python3",
      "display_name": "Python 3"
    },
    "accelerator": "GPU",
    "widgets": {
      "application/vnd.jupyter.widget-state+json": {
        "d8a1ef09062b464abe7517c54d75e76b": {
          "model_module": "@jupyter-widgets/controls",
          "model_name": "HBoxModel",
          "state": {
            "_view_name": "HBoxView",
            "_dom_classes": [],
            "_model_name": "HBoxModel",
            "_view_module": "@jupyter-widgets/controls",
            "_model_module_version": "1.5.0",
            "_view_count": null,
            "_view_module_version": "1.5.0",
            "box_style": "",
            "layout": "IPY_MODEL_a4ceb3fb04b64096af1f1d855b8f54ec",
            "_model_module": "@jupyter-widgets/controls",
            "children": [
              "IPY_MODEL_2c618f04380d49a6976ada047a7e8b7e",
              "IPY_MODEL_c46c6b73288849e593817ac472c733b9"
            ]
          }
        },
        "a4ceb3fb04b64096af1f1d855b8f54ec": {
          "model_module": "@jupyter-widgets/base",
          "model_name": "LayoutModel",
          "state": {
            "_view_name": "LayoutView",
            "grid_template_rows": null,
            "right": null,
            "justify_content": null,
            "_view_module": "@jupyter-widgets/base",
            "overflow": null,
            "_model_module_version": "1.2.0",
            "_view_count": null,
            "flex_flow": null,
            "width": null,
            "min_width": null,
            "border": null,
            "align_items": null,
            "bottom": null,
            "_model_module": "@jupyter-widgets/base",
            "top": null,
            "grid_column": null,
            "overflow_y": null,
            "overflow_x": null,
            "grid_auto_flow": null,
            "grid_area": null,
            "grid_template_columns": null,
            "flex": null,
            "_model_name": "LayoutModel",
            "justify_items": null,
            "grid_row": null,
            "max_height": null,
            "align_content": null,
            "visibility": null,
            "align_self": null,
            "height": null,
            "min_height": null,
            "padding": null,
            "grid_auto_rows": null,
            "grid_gap": null,
            "max_width": null,
            "order": null,
            "_view_module_version": "1.2.0",
            "grid_template_areas": null,
            "object_position": null,
            "object_fit": null,
            "grid_auto_columns": null,
            "margin": null,
            "display": null,
            "left": null
          }
        },
        "2c618f04380d49a6976ada047a7e8b7e": {
          "model_module": "@jupyter-widgets/controls",
          "model_name": "FloatProgressModel",
          "state": {
            "_view_name": "ProgressView",
            "style": "IPY_MODEL_b3e8b672a5b844b98fbbb2b1a23be29f",
            "_dom_classes": [],
            "description": "100%",
            "_model_name": "FloatProgressModel",
            "bar_style": "success",
            "max": 330,
            "_view_module": "@jupyter-widgets/controls",
            "_model_module_version": "1.5.0",
            "value": 330,
            "_view_count": null,
            "_view_module_version": "1.5.0",
            "orientation": "horizontal",
            "min": 0,
            "description_tooltip": null,
            "_model_module": "@jupyter-widgets/controls",
            "layout": "IPY_MODEL_9dfb42ee3e324dc78baf82926d2f522d"
          }
        },
        "c46c6b73288849e593817ac472c733b9": {
          "model_module": "@jupyter-widgets/controls",
          "model_name": "HTMLModel",
          "state": {
            "_view_name": "HTMLView",
            "style": "IPY_MODEL_6249fa141f2541a1b8b241ae2764c3df",
            "_dom_classes": [],
            "description": "",
            "_model_name": "HTMLModel",
            "placeholder": "​",
            "_view_module": "@jupyter-widgets/controls",
            "_model_module_version": "1.5.0",
            "value": " 330/330 [50:36&lt;00:00,  9.20s/it]",
            "_view_count": null,
            "_view_module_version": "1.5.0",
            "description_tooltip": null,
            "_model_module": "@jupyter-widgets/controls",
            "layout": "IPY_MODEL_506d82c793114baf8e323673ddeacf8c"
          }
        },
        "b3e8b672a5b844b98fbbb2b1a23be29f": {
          "model_module": "@jupyter-widgets/controls",
          "model_name": "ProgressStyleModel",
          "state": {
            "_view_name": "StyleView",
            "_model_name": "ProgressStyleModel",
            "description_width": "initial",
            "_view_module": "@jupyter-widgets/base",
            "_model_module_version": "1.5.0",
            "_view_count": null,
            "_view_module_version": "1.2.0",
            "bar_color": null,
            "_model_module": "@jupyter-widgets/controls"
          }
        },
        "9dfb42ee3e324dc78baf82926d2f522d": {
          "model_module": "@jupyter-widgets/base",
          "model_name": "LayoutModel",
          "state": {
            "_view_name": "LayoutView",
            "grid_template_rows": null,
            "right": null,
            "justify_content": null,
            "_view_module": "@jupyter-widgets/base",
            "overflow": null,
            "_model_module_version": "1.2.0",
            "_view_count": null,
            "flex_flow": null,
            "width": null,
            "min_width": null,
            "border": null,
            "align_items": null,
            "bottom": null,
            "_model_module": "@jupyter-widgets/base",
            "top": null,
            "grid_column": null,
            "overflow_y": null,
            "overflow_x": null,
            "grid_auto_flow": null,
            "grid_area": null,
            "grid_template_columns": null,
            "flex": null,
            "_model_name": "LayoutModel",
            "justify_items": null,
            "grid_row": null,
            "max_height": null,
            "align_content": null,
            "visibility": null,
            "align_self": null,
            "height": null,
            "min_height": null,
            "padding": null,
            "grid_auto_rows": null,
            "grid_gap": null,
            "max_width": null,
            "order": null,
            "_view_module_version": "1.2.0",
            "grid_template_areas": null,
            "object_position": null,
            "object_fit": null,
            "grid_auto_columns": null,
            "margin": null,
            "display": null,
            "left": null
          }
        },
        "6249fa141f2541a1b8b241ae2764c3df": {
          "model_module": "@jupyter-widgets/controls",
          "model_name": "DescriptionStyleModel",
          "state": {
            "_view_name": "StyleView",
            "_model_name": "DescriptionStyleModel",
            "description_width": "",
            "_view_module": "@jupyter-widgets/base",
            "_model_module_version": "1.5.0",
            "_view_count": null,
            "_view_module_version": "1.2.0",
            "_model_module": "@jupyter-widgets/controls"
          }
        },
        "506d82c793114baf8e323673ddeacf8c": {
          "model_module": "@jupyter-widgets/base",
          "model_name": "LayoutModel",
          "state": {
            "_view_name": "LayoutView",
            "grid_template_rows": null,
            "right": null,
            "justify_content": null,
            "_view_module": "@jupyter-widgets/base",
            "overflow": null,
            "_model_module_version": "1.2.0",
            "_view_count": null,
            "flex_flow": null,
            "width": null,
            "min_width": null,
            "border": null,
            "align_items": null,
            "bottom": null,
            "_model_module": "@jupyter-widgets/base",
            "top": null,
            "grid_column": null,
            "overflow_y": null,
            "overflow_x": null,
            "grid_auto_flow": null,
            "grid_area": null,
            "grid_template_columns": null,
            "flex": null,
            "_model_name": "LayoutModel",
            "justify_items": null,
            "grid_row": null,
            "max_height": null,
            "align_content": null,
            "visibility": null,
            "align_self": null,
            "height": null,
            "min_height": null,
            "padding": null,
            "grid_auto_rows": null,
            "grid_gap": null,
            "max_width": null,
            "order": null,
            "_view_module_version": "1.2.0",
            "grid_template_areas": null,
            "object_position": null,
            "object_fit": null,
            "grid_auto_columns": null,
            "margin": null,
            "display": null,
            "left": null
          }
        }
      }
    }
  },
  "cells": [
    {
      "cell_type": "markdown",
      "metadata": {
        "id": "qo9kXTMd8SmA"
      },
      "source": [
        "# Mount drive"
      ]
    },
    {
      "cell_type": "code",
      "metadata": {
        "colab": {
          "base_uri": "https://localhost:8080/"
        },
        "id": "d2UhSAWOEm49",
        "outputId": "8c9fc7e2-d68a-419d-cfc0-9c6d87d56ab2"
      },
      "source": [
        "from google.colab import drive\n",
        "drive.mount('/content/drive')"
      ],
      "execution_count": null,
      "outputs": [
        {
          "output_type": "stream",
          "text": [
            "Mounted at /content/drive\n"
          ],
          "name": "stdout"
        }
      ]
    },
    {
      "cell_type": "code",
      "metadata": {
        "colab": {
          "base_uri": "https://localhost:8080/"
        },
        "id": "ueZtBU8Az1MU",
        "outputId": "f1dd2280-e084-4c12-afa7-ae9731be1013"
      },
      "source": [
        "from pathlib import Path\r\n",
        "list(Path('/content/drive').iterdir())"
      ],
      "execution_count": null,
      "outputs": [
        {
          "output_type": "execute_result",
          "data": {
            "text/plain": [
              "[PosixPath('/content/drive/.shortcut-targets-by-id'),\n",
              " PosixPath('/content/drive/.file-revisions-by-id'),\n",
              " PosixPath('/content/drive/Shareddrives'),\n",
              " PosixPath('/content/drive/MyDrive'),\n",
              " PosixPath('/content/drive/.Trash')]"
            ]
          },
          "metadata": {
            "tags": []
          },
          "execution_count": 4
        }
      ]
    },
    {
      "cell_type": "markdown",
      "metadata": {
        "id": "gxWVEuYA8KNM"
      },
      "source": [
        "# Imports "
      ]
    },
    {
      "cell_type": "code",
      "metadata": {
        "_uuid": "8f2839f25d086af736a60e9eeb907d3b93b6e0e5",
        "_cell_guid": "b1076dfc-b9ad-4769-8c92-a6c4dae69d19",
        "trusted": true,
        "id": "nTDY1OuiC581"
      },
      "source": [
        "import numpy as np \n",
        "import pandas as pd\n",
        "\n",
        "from sklearn import preprocessing as pp\n",
        "from sklearn.model_selection import train_test_split\n",
        "from sklearn.model_selection import cross_val_score\n",
        "from sklearn.metrics import classification_report,confusion_matrix\n",
        "from sklearn.metrics import accuracy_score\n",
        "from sklearn.naive_bayes import GaussianNB\n",
        "import itertools\n",
        "import nltk \n",
        "import re                    \n",
        "from nltk.corpus import stopwords  \n",
        "from gensim import parsing       \n",
        "import gensim\n",
        "from matplotlib import pyplot as plt\n",
        "\n",
        "import tensorflow as tf\n",
        "from keras.models import Sequential\n",
        "from keras.layers import Dense, Activation, Conv2D, MaxPooling2D,Flatten,Dropout,MaxPool2D, BatchNormalization\n",
        "from keras.layers.convolutional import Conv1D\n",
        "from keras.layers.convolutional import MaxPooling1D\n",
        "from keras.utils import to_categorical\n",
        "from keras.utils import Sequence\n",
        "from keras.preprocessing.text import Tokenizer\n",
        "from keras.preprocessing.sequence import pad_sequences\n",
        "from keras.utils.np_utils import to_categorical \n",
        "from keras.models import Sequential\n",
        "from keras.layers import Dense, Dropout, Flatten, Conv2D, MaxPool2D\n",
        "from keras.optimizers import RMSprop,Adam\n",
        "from keras.preprocessing import sequence\n",
        "from keras.callbacks import ReduceLROnPlateau\n",
        "\n",
        "import math\n",
        "import os\n",
        "import pandas as pd\n",
        "import glob\n",
        "import time\n",
        "import cv2\n",
        "\n",
        "#Combining the files containing the xssed and normal samples.\n",
        "\n",
        "path = '/content/drive/DSCI' # use your path\n",
        "#all_files = glob.glob(path + \"/*.csv\")\n",
        "all_files =['/content/drive/MyDrive/DSCI/normal_examples.csv','/content/drive/MyDrive/DSCI/xssed.csv']\n",
        "li = []\n",
        "\n",
        "for filename in all_files:\n",
        "    frame = pd.read_csv(filename, index_col=None, header=0, skipinitialspace=True)\n",
        "    li.append(frame)\n",
        "\n",
        "#np.random.shuffle(li)\n",
        "df = pd.concat(li, axis=0, ignore_index=True)\n"
      ],
      "execution_count": null,
      "outputs": []
    },
    {
      "cell_type": "markdown",
      "metadata": {
        "id": "L7tE0B4kB0rY"
      },
      "source": [
        "### Getting the dataframe"
      ]
    },
    {
      "cell_type": "code",
      "metadata": {
        "colab": {
          "base_uri": "https://localhost:8080/"
        },
        "id": "6tne73VfUp_d",
        "outputId": "7240783d-0a98-4ad9-c120-ac0d85f8409f"
      },
      "source": [
        "print(li)"
      ],
      "execution_count": null,
      "outputs": [
        {
          "output_type": "stream",
          "text": [
            "[                                                    Code  Label\n",
            "0                sid=&amp;ring=hentff98&amp;id=&amp;list      0\n",
            "1                                            ring=yaoi28      0\n",
            "2                    mode=navigation&amp;categoryid=1141      0\n",
            "3                                                lang=en      0\n",
            "4                                            ring=bettie      0\n",
            "...                                                  ...    ...\n",
            "31402  sgwid=4-102-70-1066702-detailspage=journal|des...      0\n",
            "31403                                       subject=ls60      0\n",
            "31404                                            jid=grh      0\n",
            "31405                         journal=mcg&amp;page=index      0\n",
            "31406                           path=228;273;280;428;287      0\n",
            "\n",
            "[31407 rows x 2 columns],                                                     Code  Label\n",
            "0      Search%3D%3C/script%3E%3Cimg/%2A%00/src%3D%22w...      1\n",
            "1      symbol%3D%3Ch1%3E%3Cscript%3Ealert%28/hacked/%...      1\n",
            "2      query%3D%3CIMG%2B%22%22%22%3E%3CSCRIPT%3Ealert...      1\n",
            "3      ReturnUrl%3Dhttp%3A//www.elle.fr/recherche/rec...      1\n",
            "4      _lang%3D%22%3E%3Cscript%3Ealert%28document.coo...      1\n",
            "...                                                  ...    ...\n",
            "74058  produto=%22%3E'%3E%3CSCRIPT%3Ealert(String.fro...      1\n",
            "74059  m=%22%3E'%3E%3CSCRIPT%3Ealert(String.fromCharC...      1\n",
            "74060      q=%3Cscript%3Ealert%28%22m%22%29%3C/script%3E      1\n",
            "74061  Search=%22%3E'%3E%3CSCRIPT%20SRC=http://br.zon...      1\n",
            "74062  method=show&lojaPrincipal=&areaName=busca&nome...      1\n",
            "\n",
            "[74063 rows x 2 columns]]\n"
          ],
          "name": "stdout"
        }
      ]
    },
    {
      "cell_type": "code",
      "metadata": {
        "colab": {
          "base_uri": "https://localhost:8080/",
          "height": 195
        },
        "id": "uReFSz65Uq4l",
        "outputId": "16d4a6ea-31b6-4c0c-ba26-22e9ab5b4bd0"
      },
      "source": [
        "df.head()"
      ],
      "execution_count": null,
      "outputs": [
        {
          "output_type": "execute_result",
          "data": {
            "text/html": [
              "<div>\n",
              "<style scoped>\n",
              "    .dataframe tbody tr th:only-of-type {\n",
              "        vertical-align: middle;\n",
              "    }\n",
              "\n",
              "    .dataframe tbody tr th {\n",
              "        vertical-align: top;\n",
              "    }\n",
              "\n",
              "    .dataframe thead th {\n",
              "        text-align: right;\n",
              "    }\n",
              "</style>\n",
              "<table border=\"1\" class=\"dataframe\">\n",
              "  <thead>\n",
              "    <tr style=\"text-align: right;\">\n",
              "      <th></th>\n",
              "      <th>Code</th>\n",
              "      <th>Label</th>\n",
              "    </tr>\n",
              "  </thead>\n",
              "  <tbody>\n",
              "    <tr>\n",
              "      <th>0</th>\n",
              "      <td>sid=&amp;amp;ring=hentff98&amp;amp;id=&amp;amp;list</td>\n",
              "      <td>0</td>\n",
              "    </tr>\n",
              "    <tr>\n",
              "      <th>1</th>\n",
              "      <td>ring=yaoi28</td>\n",
              "      <td>0</td>\n",
              "    </tr>\n",
              "    <tr>\n",
              "      <th>2</th>\n",
              "      <td>mode=navigation&amp;amp;categoryid=1141</td>\n",
              "      <td>0</td>\n",
              "    </tr>\n",
              "    <tr>\n",
              "      <th>3</th>\n",
              "      <td>lang=en</td>\n",
              "      <td>0</td>\n",
              "    </tr>\n",
              "    <tr>\n",
              "      <th>4</th>\n",
              "      <td>ring=bettie</td>\n",
              "      <td>0</td>\n",
              "    </tr>\n",
              "  </tbody>\n",
              "</table>\n",
              "</div>"
            ],
            "text/plain": [
              "                                      Code  Label\n",
              "0  sid=&amp;ring=hentff98&amp;id=&amp;list      0\n",
              "1                              ring=yaoi28      0\n",
              "2      mode=navigation&amp;categoryid=1141      0\n",
              "3                                  lang=en      0\n",
              "4                              ring=bettie      0"
            ]
          },
          "metadata": {
            "tags": []
          },
          "execution_count": 7
        }
      ]
    },
    {
      "cell_type": "code",
      "metadata": {
        "colab": {
          "base_uri": "https://localhost:8080/"
        },
        "id": "IwodoEXyUvyQ",
        "outputId": "c803bfe6-6385-4bea-e90b-2c3837fd91c7"
      },
      "source": [
        "del li\r\n",
        "import gc \r\n",
        "gc.collect()"
      ],
      "execution_count": null,
      "outputs": [
        {
          "output_type": "execute_result",
          "data": {
            "text/plain": [
              "47"
            ]
          },
          "metadata": {
            "tags": []
          },
          "execution_count": 8
        }
      ]
    },
    {
      "cell_type": "code",
      "metadata": {
        "id": "HVXt13tsU0jA"
      },
      "source": [
        "#Shuffling the normal ad xss samples to get a mixed dataset. \r\n",
        "from sklearn.utils import shuffle\r\n",
        "df= shuffle(df, random_state=0)"
      ],
      "execution_count": null,
      "outputs": []
    },
    {
      "cell_type": "code",
      "metadata": {
        "colab": {
          "base_uri": "https://localhost:8080/",
          "height": 402
        },
        "id": "UFS-Mzu3U40O",
        "outputId": "7ee204c8-472a-47f8-e9c6-b26c6e3cc7e0"
      },
      "source": [
        "df"
      ],
      "execution_count": null,
      "outputs": [
        {
          "output_type": "execute_result",
          "data": {
            "text/html": [
              "<div>\n",
              "<style scoped>\n",
              "    .dataframe tbody tr th:only-of-type {\n",
              "        vertical-align: middle;\n",
              "    }\n",
              "\n",
              "    .dataframe tbody tr th {\n",
              "        vertical-align: top;\n",
              "    }\n",
              "\n",
              "    .dataframe thead th {\n",
              "        text-align: right;\n",
              "    }\n",
              "</style>\n",
              "<table border=\"1\" class=\"dataframe\">\n",
              "  <thead>\n",
              "    <tr style=\"text-align: right;\">\n",
              "      <th></th>\n",
              "      <th>Code</th>\n",
              "      <th>Label</th>\n",
              "    </tr>\n",
              "  </thead>\n",
              "  <tbody>\n",
              "    <tr>\n",
              "      <th>73039</th>\n",
              "      <td>clef=crochesdor&amp;titre=%22%3E%3Cscript%3Ealert%...</td>\n",
              "      <td>1</td>\n",
              "    </tr>\n",
              "    <tr>\n",
              "      <th>4960</th>\n",
              "      <td>aid=/20011207/reviews/112070301/1023</td>\n",
              "      <td>0</td>\n",
              "    </tr>\n",
              "    <tr>\n",
              "      <th>96239</th>\n",
              "      <td>prod=%22%3E%27%3E%3C%73%63%72%69%70%74%3E%61%6...</td>\n",
              "      <td>1</td>\n",
              "    </tr>\n",
              "    <tr>\n",
              "      <th>60741</th>\n",
              "      <td>lg%3D%3C/script%3E%3Ciframe%20src%3Dhttp%3A//x...</td>\n",
              "      <td>1</td>\n",
              "    </tr>\n",
              "    <tr>\n",
              "      <th>71075</th>\n",
              "      <td>country%3D%22%3E%3Cscript%3Ealert%28document.c...</td>\n",
              "      <td>1</td>\n",
              "    </tr>\n",
              "    <tr>\n",
              "      <th>...</th>\n",
              "      <td>...</td>\n",
              "      <td>...</td>\n",
              "    </tr>\n",
              "    <tr>\n",
              "      <th>21243</th>\n",
              "      <td>publicationid=731</td>\n",
              "      <td>0</td>\n",
              "    </tr>\n",
              "    <tr>\n",
              "      <th>45891</th>\n",
              "      <td>offset%3D5%26sortby%3Dlivedate%20desc%26search...</td>\n",
              "      <td>1</td>\n",
              "    </tr>\n",
              "    <tr>\n",
              "      <th>42613</th>\n",
              "      <td>Fatal%3D0%26Severity%3D3%26Category%3D3%26Even...</td>\n",
              "      <td>1</td>\n",
              "    </tr>\n",
              "    <tr>\n",
              "      <th>43567</th>\n",
              "      <td>ara%3D%22%3E%3Cscript%3Ealert%28%22BackDoor%22...</td>\n",
              "      <td>1</td>\n",
              "    </tr>\n",
              "    <tr>\n",
              "      <th>68268</th>\n",
              "      <td>redirectUrl%3D%22%3B%7Dalert%28%27XSS%20by%20K...</td>\n",
              "      <td>1</td>\n",
              "    </tr>\n",
              "  </tbody>\n",
              "</table>\n",
              "<p>105470 rows × 2 columns</p>\n",
              "</div>"
            ],
            "text/plain": [
              "                                                    Code  Label\n",
              "73039  clef=crochesdor&titre=%22%3E%3Cscript%3Ealert%...      1\n",
              "4960                aid=/20011207/reviews/112070301/1023      0\n",
              "96239  prod=%22%3E%27%3E%3C%73%63%72%69%70%74%3E%61%6...      1\n",
              "60741  lg%3D%3C/script%3E%3Ciframe%20src%3Dhttp%3A//x...      1\n",
              "71075  country%3D%22%3E%3Cscript%3Ealert%28document.c...      1\n",
              "...                                                  ...    ...\n",
              "21243                                  publicationid=731      0\n",
              "45891  offset%3D5%26sortby%3Dlivedate%20desc%26search...      1\n",
              "42613  Fatal%3D0%26Severity%3D3%26Category%3D3%26Even...      1\n",
              "43567  ara%3D%22%3E%3Cscript%3Ealert%28%22BackDoor%22...      1\n",
              "68268  redirectUrl%3D%22%3B%7Dalert%28%27XSS%20by%20K...      1\n",
              "\n",
              "[105470 rows x 2 columns]"
            ]
          },
          "metadata": {
            "tags": []
          },
          "execution_count": 11
        }
      ]
    },
    {
      "cell_type": "markdown",
      "metadata": {
        "id": "1cMCb72oBsS3"
      },
      "source": [
        "# Preprocessing"
      ]
    },
    {
      "cell_type": "code",
      "metadata": {
        "id": "UlB9wEXob5Mm"
      },
      "source": [
        "\"\"\"\r\n",
        "Finding the number of xss examples\r\n",
        "xssed = df.apply(lambda x: True if 1 in list(x) else False, axis=1)\r\n",
        "xss_count = len(xssed[xssed == True].index)\r\n",
        "\"\"\""
      ],
      "execution_count": 123,
      "outputs": []
    },
    {
      "cell_type": "code",
      "metadata": {
        "id": "ZaDp3T8aU-JI"
      },
      "source": [
        "X=df['Code']\r\n",
        "Y=df['Label']"
      ],
      "execution_count": null,
      "outputs": []
    },
    {
      "cell_type": "code",
      "metadata": {
        "colab": {
          "base_uri": "https://localhost:8080/"
        },
        "id": "7m7fnjNsXNf_",
        "outputId": "377d7795-c59a-4239-c717-cfde1f2153ff"
      },
      "source": [
        "X.head()"
      ],
      "execution_count": null,
      "outputs": [
        {
          "output_type": "execute_result",
          "data": {
            "text/plain": [
              "73039    clef=crochesdor&titre=%22%3E%3Cscript%3Ealert%...\n",
              "4960                  aid=/20011207/reviews/112070301/1023\n",
              "96239    prod=%22%3E%27%3E%3C%73%63%72%69%70%74%3E%61%6...\n",
              "60741    lg%3D%3C/script%3E%3Ciframe%20src%3Dhttp%3A//x...\n",
              "71075    country%3D%22%3E%3Cscript%3Ealert%28document.c...\n",
              "Name: Code, dtype: object"
            ]
          },
          "metadata": {
            "tags": []
          },
          "execution_count": 19
        }
      ]
    },
    {
      "cell_type": "code",
      "metadata": {
        "id": "XsWCKe4Agdom"
      },
      "source": [
        "sentences=df['Code'].values\r\n",
        "y=df['Label'].values"
      ],
      "execution_count": 127,
      "outputs": []
    },
    {
      "cell_type": "code",
      "metadata": {
        "id": "OqoxnQ3RV-gA"
      },
      "source": [
        "# Function to convert the sentences(code) to ASCII values\r\n",
        "\r\n",
        "def convert_to_ascii(sentence):\r\n",
        "    sentence_ascii=[]\r\n",
        "\r\n",
        "    for i in sentence:\r\n",
        "        \r\n",
        "        \r\n",
        "        \"\"\"Some characters have very large values,\r\n",
        "        thus removing letters having values greater than 8222 and for characters whose values lie between \r\n",
        "        128 and 8222 assigning them values so they can be normalized more easily.\"\"\"\r\n",
        "       \r\n",
        "        if(ord(i)<8222):      # ” has ASCII of 8221\r\n",
        "            \r\n",
        "            if(ord(i)==8217): # ’  :  8217\r\n",
        "                sentence_ascii.append(134)\r\n",
        "            \r\n",
        "            \r\n",
        "            if(ord(i)==8221): # ”  :  8221\r\n",
        "                sentence_ascii.append(129)\r\n",
        "                \r\n",
        "            if(ord(i)==8220): # “  :  8220\r\n",
        "                sentence_ascii.append(130)\r\n",
        "\r\n",
        "            if(ord(i)==8216): # ‘  :  8216\r\n",
        "                sentence_ascii.append(131)\r\n",
        "                \r\n",
        "            if(ord(i)==8217): # ’  :  8217\r\n",
        "                sentence_ascii.append(132)\r\n",
        "            \r\n",
        "            if(ord(i)==8211): # –  :  8211\r\n",
        "                sentence_ascii.append(133)\r\n",
        "                \r\n",
        "            #If values less than 128 store them else discard them\r\n",
        "          \r\n",
        "            if (ord(i)<=128):\r\n",
        "                    sentence_ascii.append(ord(i))\r\n",
        "    \r\n",
        "            else:\r\n",
        "                    pass\r\n",
        "    \"\"\"       \r\n",
        "    All data (except 1 string - the extra characters in this are truncated eventually)\r\n",
        "    are less than 10000 characters, thus the zer array is initialised to the 10000 zeroes. \r\n",
        "    zer=np.zeros((10000))\r\n",
        "    The minimum of length of zer and sentence_ascii is taken to fill the values of zer. \r\n",
        "    \"\"\"\r\n",
        "    \r\n",
        "    for i in range(min(len(sentence_ascii), len(zer))):\r\n",
        "        zer[i]=sentence_ascii[i]\r\n",
        "\r\n",
        "    return zer.reshape(100, 100)\r\n"
      ],
      "execution_count": null,
      "outputs": []
    },
    {
      "cell_type": "code",
      "metadata": {
        "id": "P0bQ8aEKZLAA"
      },
      "source": [
        "# Sending each sentence to be converted to ASCII and the output is an image :\r\n",
        "\r\n",
        "def make_image(sentences):\r\n",
        "  arr=np.zeros((len(sentences),100,100))\r\n",
        "  for i in range(len(sentences)):\r\n",
        "      image=convert_to_ascii(sentences[i])\r\n",
        "      x=np.asarray(image,dtype='float')\r\n",
        "      image =  cv2.resize(x, dsize=(100,100), interpolation=cv2.INTER_CUBIC)\r\n",
        "      image/=128\r\n",
        "      arr[i]=image\r\n",
        "  #Reshaping data for input to the CNN\r\n",
        "  return arr.reshape(arr.shape[0], 100, 100, 1)"
      ],
      "execution_count": null,
      "outputs": []
    },
    {
      "cell_type": "code",
      "metadata": {
        "colab": {
          "base_uri": "https://localhost:8080/"
        },
        "id": "5APRJnlKqPej",
        "outputId": "f97fbdc7-6ec4-4a18-e398-bd5c11cf2eb6"
      },
      "source": [
        "#Average length of a data input \r\n",
        "#sum([len(i) for i in sentences]) / len(sentences)"
      ],
      "execution_count": null,
      "outputs": [
        {
          "output_type": "execute_result",
          "data": {
            "text/plain": [
              "88.90807812648147"
            ]
          },
          "metadata": {
            "tags": []
          },
          "execution_count": 63
        }
      ]
    },
    {
      "cell_type": "code",
      "metadata": {
        "id": "dz4bI3SqiQFF"
      },
      "source": [
        "# Split into train/test data\r\n",
        "from sklearn.model_selection import train_test_split\r\n",
        "trainX, testX, trainY, testY = train_test_split(sentences,y, test_size=0.2, random_state=42)"
      ],
      "execution_count": null,
      "outputs": []
    },
    {
      "cell_type": "markdown",
      "metadata": {
        "id": "5GTNqI8zIVep"
      },
      "source": [
        "Using a data generator: Generating our dataset on multiple cores in real time and then feeding it to our deep learning model to deal with the memory-consuming data in a better way. \r\n"
      ]
    },
    {
      "cell_type": "code",
      "metadata": {
        "id": "1VzQ2NLjkKVW"
      },
      "source": [
        "class DatasetObject(Sequence):\r\n",
        "\r\n",
        "  def __init__(self, x, y, batch_size=64):\r\n",
        "    self.x, self.y = x, y\r\n",
        "    self.batch_size = batch_size\r\n",
        "\r\n",
        "  #Returns the number of batches in the Sequence\r\n",
        "  def __len__(self):\r\n",
        "    return math.ceil(len(self.x) / self.batch_size)\r\n",
        "\r\n",
        "  #Returning the image corresponding to the idx and the labels from the training set\r\n",
        "  #Gets a complete batch at position idx\r\n",
        "  def __getitem__(self, idx):                 \r\n",
        "    batch_x = self.x[idx * self.batch_size:(idx + 1) * self.batch_size]\r\n",
        "    batch_y = self.y[idx * self.batch_size:(idx + 1) * self.batch_size]\r\n",
        "    return make_image(batch_x), batch_y"
      ],
      "execution_count": null,
      "outputs": []
    },
    {
      "cell_type": "code",
      "metadata": {
        "colab": {
          "base_uri": "https://localhost:8080/"
        },
        "id": "CNFrwUC1k43p",
        "outputId": "5a2a5524-25d8-45ee-a11d-c49b09350c17"
      },
      "source": [
        "train_ds = DatasetObject(trainX, trainY)\r\n",
        "test_ds = DatasetObject(testX, testY)\r\n",
        "len(train_ds), len(test_ds)"
      ],
      "execution_count": null,
      "outputs": [
        {
          "output_type": "execute_result",
          "data": {
            "text/plain": [
              "(1319, 330)"
            ]
          },
          "metadata": {
            "tags": []
          },
          "execution_count": 82
        }
      ]
    },
    {
      "cell_type": "code",
      "metadata": {
        "colab": {
          "base_uri": "https://localhost:8080/"
        },
        "id": "jCDsikgYlV1M",
        "outputId": "7b96aeef-29b0-4647-d179-43378343074a"
      },
      "source": [
        "train_ds[3][0].shape"
      ],
      "execution_count": null,
      "outputs": [
        {
          "output_type": "execute_result",
          "data": {
            "text/plain": [
              "(64, 100, 100, 1)"
            ]
          },
          "metadata": {
            "tags": []
          },
          "execution_count": 41
        }
      ]
    },
    {
      "cell_type": "markdown",
      "metadata": {
        "id": "5AgtwL_BJ8My"
      },
      "source": [
        "# Model"
      ]
    },
    {
      "cell_type": "code",
      "metadata": {
        "id": "MrcujgzxigrN"
      },
      "source": [
        "# Total number of layers = 11\r\n",
        "# Number of Convolutional layer: 3\r\n",
        "\r\n",
        "model=tf.keras.models.Sequential([\r\n",
        "    \r\n",
        "    tf.keras.layers.Conv2D(64,(3,3), activation=tf.nn.relu, input_shape=(100,100,1)),\r\n",
        "    tf.keras.layers.MaxPooling2D(2,2),\r\n",
        "    \r\n",
        "    tf.keras.layers.Conv2D(128,(3,3), activation='relu'),\r\n",
        "    tf.keras.layers.MaxPooling2D(2,2),\r\n",
        "    \r\n",
        "    tf.keras.layers.Conv2D(256,(3,3), activation='relu'),\r\n",
        "    tf.keras.layers.MaxPooling2D(2,2),\r\n",
        "    \r\n",
        "    tf.keras.layers.Flatten(),\r\n",
        "    tf.keras.layers.Dense(256, activation='relu'),\r\n",
        "    tf.keras.layers.Dense(128, activation='relu'),\r\n",
        "    tf.keras.layers.Dense(64, activation='relu'),\r\n",
        "    tf.keras.layers.Dense(1, activation='sigmoid')\r\n",
        "    \r\n",
        "])   \r\n"
      ],
      "execution_count": null,
      "outputs": []
    },
    {
      "cell_type": "code",
      "metadata": {
        "colab": {
          "base_uri": "https://localhost:8080/"
        },
        "id": "jRXR6h-oipDB",
        "outputId": "7b3241e8-0d57-4770-9000-5f0471f7b721"
      },
      "source": [
        "model.compile(loss='binary_crossentropy', \r\n",
        "              optimizer='adam', \r\n",
        "              metrics=['accuracy'])\r\n",
        "model.summary()"
      ],
      "execution_count": null,
      "outputs": [
        {
          "output_type": "stream",
          "text": [
            "Model: \"sequential_2\"\n",
            "_________________________________________________________________\n",
            "Layer (type)                 Output Shape              Param #   \n",
            "=================================================================\n",
            "conv2d_6 (Conv2D)            (None, 98, 98, 64)        640       \n",
            "_________________________________________________________________\n",
            "max_pooling2d_6 (MaxPooling2 (None, 49, 49, 64)        0         \n",
            "_________________________________________________________________\n",
            "conv2d_7 (Conv2D)            (None, 47, 47, 128)       73856     \n",
            "_________________________________________________________________\n",
            "max_pooling2d_7 (MaxPooling2 (None, 23, 23, 128)       0         \n",
            "_________________________________________________________________\n",
            "conv2d_8 (Conv2D)            (None, 21, 21, 256)       295168    \n",
            "_________________________________________________________________\n",
            "max_pooling2d_8 (MaxPooling2 (None, 10, 10, 256)       0         \n",
            "_________________________________________________________________\n",
            "flatten_2 (Flatten)          (None, 25600)             0         \n",
            "_________________________________________________________________\n",
            "dense_8 (Dense)              (None, 256)               6553856   \n",
            "_________________________________________________________________\n",
            "dense_9 (Dense)              (None, 128)               32896     \n",
            "_________________________________________________________________\n",
            "dense_10 (Dense)             (None, 64)                8256      \n",
            "_________________________________________________________________\n",
            "dense_11 (Dense)             (None, 1)                 65        \n",
            "=================================================================\n",
            "Total params: 6,964,737\n",
            "Trainable params: 6,964,737\n",
            "Non-trainable params: 0\n",
            "_________________________________________________________________\n"
          ],
          "name": "stdout"
        }
      ]
    },
    {
      "cell_type": "code",
      "metadata": {
        "id": "v9ga8qUSi2bI"
      },
      "source": [
        "# Stop when validation accuracy > 97 (Callbacks)\r\n",
        "\r\n",
        "class myCallback(tf.keras.callbacks.Callback):\r\n",
        "    def on_epoch_end(self, epoch, logs={}):\r\n",
        "        if(logs.get('val_accuracy')>0.99):\r\n",
        "            print(\" \\n Reached 97% + validation accuracy\")\r\n",
        "            self.model.stop_training=True\r\n",
        "callbacks = myCallback()"
      ],
      "execution_count": null,
      "outputs": []
    },
    {
      "cell_type": "code",
      "metadata": {
        "colab": {
          "base_uri": "https://localhost:8080/"
        },
        "id": "eqoo_JK6i6kP",
        "outputId": "c257b0d5-4889-4f32-ef8b-7fe1a5ce0627"
      },
      "source": [
        "#On training, val_accuracy drops after the 7th epoch. \r\n",
        "batch_size = 128\r\n",
        "num_epoch = 10\r\n",
        "#model training\r\n",
        "model_log = model.fit(train_ds,\r\n",
        "                epochs=num_epoch,\r\n",
        "                verbose=1,\r\n",
        "                validation_data=test_ds,\r\n",
        " #               callbacks=[callbacks]\r\n",
        "            )"
      ],
      "execution_count": null,
      "outputs": [
        {
          "output_type": "stream",
          "text": [
            "Epoch 1/10\n",
            "1319/1319 [==============================] - 56s 42ms/step - loss: 0.0472 - accuracy: 0.9863 - val_loss: 0.0401 - val_accuracy: 0.9885\n",
            "Epoch 2/10\n",
            "1319/1319 [==============================] - 56s 42ms/step - loss: 0.0349 - accuracy: 0.9903 - val_loss: 0.0315 - val_accuracy: 0.9910\n",
            "Epoch 3/10\n",
            "1319/1319 [==============================] - 55s 42ms/step - loss: 0.0293 - accuracy: 0.9919 - val_loss: 0.0373 - val_accuracy: 0.9894\n",
            "Epoch 4/10\n",
            "1319/1319 [==============================] - 55s 42ms/step - loss: 0.0278 - accuracy: 0.9923 - val_loss: 0.0280 - val_accuracy: 0.9926\n",
            "Epoch 5/10\n",
            "1319/1319 [==============================] - 55s 42ms/step - loss: 0.0240 - accuracy: 0.9933 - val_loss: 0.0312 - val_accuracy: 0.9924\n",
            "Epoch 6/10\n",
            "1319/1319 [==============================] - 55s 42ms/step - loss: 0.0228 - accuracy: 0.9936 - val_loss: 0.0394 - val_accuracy: 0.9889\n",
            "Epoch 7/10\n",
            "1319/1319 [==============================] - 55s 42ms/step - loss: 0.0214 - accuracy: 0.9942 - val_loss: 0.0238 - val_accuracy: 0.9940\n",
            "Epoch 8/10\n",
            "1319/1319 [==============================] - 55s 42ms/step - loss: 0.0202 - accuracy: 0.9947 - val_loss: 0.0242 - val_accuracy: 0.9938\n",
            "Epoch 9/10\n",
            "1319/1319 [==============================] - 55s 42ms/step - loss: 0.0190 - accuracy: 0.9948 - val_loss: 0.0273 - val_accuracy: 0.9923\n",
            "Epoch 10/10\n",
            "1319/1319 [==============================] - 55s 42ms/step - loss: 0.0187 - accuracy: 0.9949 - val_loss: 0.0255 - val_accuracy: 0.9933\n"
          ],
          "name": "stdout"
        }
      ]
    },
    {
      "cell_type": "markdown",
      "metadata": {
        "id": "xOjiEgzZKLQI"
      },
      "source": [
        "# Results"
      ]
    },
    {
      "cell_type": "code",
      "metadata": {
        "id": "FE9p4oabi9lF",
        "colab": {
          "base_uri": "https://localhost:8080/",
          "height": 82,
          "referenced_widgets": [
            "d8a1ef09062b464abe7517c54d75e76b",
            "a4ceb3fb04b64096af1f1d855b8f54ec",
            "2c618f04380d49a6976ada047a7e8b7e",
            "c46c6b73288849e593817ac472c733b9",
            "b3e8b672a5b844b98fbbb2b1a23be29f",
            "9dfb42ee3e324dc78baf82926d2f522d",
            "6249fa141f2541a1b8b241ae2764c3df",
            "506d82c793114baf8e323673ddeacf8c"
          ]
        },
        "outputId": "77993c3a-2248-4468-db8a-f384dca6597c"
      },
      "source": [
        "# Prediction for test set:\r\n",
        "from tqdm.notebook import tqdm\r\n",
        "preds = [model.predict(test_ds[i][0]) for i in tqdm(range(len(test_ds)))]\r\n",
        "preds = tf.concat(preds, axis=0).numpy()\r\n",
        "preds.shape"
      ],
      "execution_count": null,
      "outputs": [
        {
          "output_type": "display_data",
          "data": {
            "application/vnd.jupyter.widget-view+json": {
              "model_id": "d8a1ef09062b464abe7517c54d75e76b",
              "version_minor": 0,
              "version_major": 2
            },
            "text/plain": [
              "HBox(children=(FloatProgress(value=0.0, max=330.0), HTML(value='')))"
            ]
          },
          "metadata": {
            "tags": []
          }
        },
        {
          "output_type": "stream",
          "text": [
            "\n"
          ],
          "name": "stdout"
        },
        {
          "output_type": "execute_result",
          "data": {
            "text/plain": [
              "(21094, 1)"
            ]
          },
          "metadata": {
            "tags": []
          },
          "execution_count": 112
        }
      ]
    },
    {
      "cell_type": "code",
      "metadata": {
        "id": "VFh02cTXJSzC"
      },
      "source": [
        "# Threshold values predicted:\r\n",
        "\r\n",
        "for i in range(len(preds)):\r\n",
        "    if preds[i]>0.5:\r\n",
        "        preds[i]=1\r\n",
        "    elif preds[i]<=0.5:\r\n",
        "        preds[i]=0\r\n"
      ],
      "execution_count": null,
      "outputs": []
    },
    {
      "cell_type": "code",
      "metadata": {
        "colab": {
          "base_uri": "https://localhost:8080/"
        },
        "id": "m8_ME1u3JVNW",
        "outputId": "21e9a72c-b33c-4ac3-92e3-7b4fe782408c"
      },
      "source": [
        "# Counting the true predicted and wrong predicted labels:\r\n",
        "\r\n",
        "true=0\r\n",
        "false=0\r\n",
        "\r\n",
        "for i in range(len(preds)):\r\n",
        "    if preds[i] == testY[i]:\r\n",
        "        true+=1\r\n",
        "    else:\r\n",
        "        false+=1\r\n",
        "        \r\n",
        "print(\"correct predicted :: \", true)\r\n",
        "print(\"false prediction :: \", false)"
      ],
      "execution_count": null,
      "outputs": [
        {
          "output_type": "stream",
          "text": [
            "correct predicted ::  20952\n",
            "false prediction ::  142\n"
          ],
          "name": "stdout"
        }
      ]
    },
    {
      "cell_type": "code",
      "metadata": {
        "colab": {
          "base_uri": "https://localhost:8080/"
        },
        "id": "ypMAOmHOJZlF",
        "outputId": "1c91dcc7-ef9c-491c-915c-fcbbdcfaba02"
      },
      "source": [
        "# Number of attack(XSS) and benign(normal) data in test set:\r\n",
        "\r\n",
        "attack=0\r\n",
        "benign=0\r\n",
        "for i in range(len(testY)):\r\n",
        "    if testY[i]==1:\r\n",
        "        attack+=1\r\n",
        "    else:\r\n",
        "        benign+=1\r\n",
        "\r\n",
        "print(\"Attack data in test set :: \", attack)\r\n",
        "print(\" Benign data in test set :: \", benign)"
      ],
      "execution_count": null,
      "outputs": [
        {
          "output_type": "stream",
          "text": [
            "Attack data in test set ::  14740\n",
            " Benign data in test set ::  6354\n"
          ],
          "name": "stdout"
        }
      ]
    },
    {
      "cell_type": "code",
      "metadata": {
        "id": "LKulx9H-JcCi"
      },
      "source": [
        "# Takes true positive, true negative, false positive and false negative as input:\r\n",
        "# Returns Accuracy\r\n",
        "\r\n",
        "def accuracy_function(tp,tn,fp,fn):\r\n",
        "    \r\n",
        "    accuracy = (tp+tn) / (tp+tn+fp+fn)\r\n",
        "    \r\n",
        "    return accuracy"
      ],
      "execution_count": null,
      "outputs": []
    },
    {
      "cell_type": "code",
      "metadata": {
        "id": "hEMb4OOXJelL"
      },
      "source": [
        "# Takes true positive and false positive as input:\r\n",
        "# Returns Precision\r\n",
        "\r\n",
        "def precision_function(tp,fp):\r\n",
        "    \r\n",
        "    precision = tp / (tp+fp)\r\n",
        "    \r\n",
        "    return precision"
      ],
      "execution_count": null,
      "outputs": []
    },
    {
      "cell_type": "code",
      "metadata": {
        "id": "xfUdcn-7JgdR"
      },
      "source": [
        "#Takes true positive and false negative as input:\r\n",
        "# Returns Recall\r\n",
        "\r\n",
        "def recall_function(tp,fn):\r\n",
        "    \r\n",
        "    recall=tp / (tp+fn)\r\n",
        "    \r\n",
        "    return recall"
      ],
      "execution_count": null,
      "outputs": []
    },
    {
      "cell_type": "code",
      "metadata": {
        "id": "6zssoU2VJmns"
      },
      "source": [
        "#Takes true values and the predicted values as input:\r\n",
        "# Returns accuracy, precision and recall.\r\n",
        "\r\n",
        "def confusion_matrix(truth,predicted):\r\n",
        "    \r\n",
        "    true_positive = 0\r\n",
        "    true_negative = 0\r\n",
        "    false_positive = 0\r\n",
        "    false_negative = 0\r\n",
        "    \r\n",
        "    for true,pred in zip(truth,predicted):\r\n",
        "        if true == 1:\r\n",
        "            if pred == true:\r\n",
        "                true_positive += 1\r\n",
        "            elif pred != true:\r\n",
        "                false_negative += 1\r\n",
        "        elif true == 0:\r\n",
        "            if pred == true:\r\n",
        "                true_negative += 1\r\n",
        "            elif pred != true:\r\n",
        "                false_positive += 1\r\n",
        "            \r\n",
        "    accuracy=accuracy_function(true_positive, true_negative, false_positive, false_negative)\r\n",
        "    precision=precision_function(true_positive, false_positive)\r\n",
        "    recall=recall_function(true_positive, false_negative)\r\n",
        "    \r\n",
        "    return (accuracy,\r\n",
        "            precision,\r\n",
        "           recall)"
      ],
      "execution_count": null,
      "outputs": []
    },
    {
      "cell_type": "code",
      "metadata": {
        "id": "sTE-EhfiJtTq"
      },
      "source": [
        "accuracy,precision,recall=confusion_matrix(testY,pred)\r\n"
      ],
      "execution_count": null,
      "outputs": []
    },
    {
      "cell_type": "code",
      "metadata": {
        "colab": {
          "base_uri": "https://localhost:8080/"
        },
        "id": "95464v_GJvyg",
        "outputId": "5e48db95-93ac-4dc7-c6d3-c9ea4cc5e5b2"
      },
      "source": [
        "print(\" Accuracy : {0} \\n Precision : {1} \\n Recall : {2}\".format(accuracy, precision, recall))\r\n"
      ],
      "execution_count": null,
      "outputs": [
        {
          "output_type": "stream",
          "text": [
            " Accuracy : 0.984375 \n",
            " Precision : 1.0 \n",
            " Recall : 0.9803921568627451\n"
          ],
          "name": "stdout"
        }
      ]
    }
  ]
}